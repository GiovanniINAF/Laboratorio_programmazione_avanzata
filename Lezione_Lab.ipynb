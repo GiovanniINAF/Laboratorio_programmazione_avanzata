{
 "cells": [
  {
   "cell_type": "markdown",
   "id": "445d1ff5-3246-4667-aa08-4aa5baab84d4",
   "metadata": {},
   "source": [
    "# Lezione VI: Strutture Dati Dinamiche: Liste, Alberi e Tabelle Hash\n",
    "\n",
    "Ciao a tutti! In questa lezione esploreremo tre delle strutture dati più importanti nella programmazione: le **liste concatenate**, gli **alberi binari di ricerca** e le **tabelle hash**. Impareremo perché sono così utili e come possono rendere i nostri programmi molto più efficienti.\n",
    "\n",
    "## 1. Liste Concatenate (Linked Lists): La Caccia al Tesoro 🗺️\n",
    "\n",
    "Immaginate di non avere una lista della spesa ordinata su un foglio, ma una serie di bigliettini. Il primo bigliettino dice \"compra il latte\" e ti dà l'indirizzo di dove trovare il secondo bigliettino. Il secondo dice \"compra il pane\" e ti indica dove trovare il terzo, e così via, finché l'ultimo bigliettino dice \"fine!\".\n",
    "\n",
    "Questa è una **lista concatenata**.\n",
    "\n",
    "* **Nodo (Node):** Ogni \"bigliettino\" è un nodo. Contiene due cose: un **dato** (es. \"latte\") e un **puntatore** (l'indirizzo del nodo successivo).\n",
    "* **Head:** Il primo nodo della lista, da cui parte tutto.\n",
    "\n",
    "A differenza di un array, i nodi di una lista non devono essere vicini in memoria. Questo ci dà un'enorme flessibilità!\n",
    "\n",
    "**Vantaggi:**\n",
    "* **Dimensione Dinamica:** Una lista può crescere e rimpicciolirsi quanto vogliamo, senza dover decidere una dimensione massima all'inizio.\n",
    "* **Inserimenti/Cancellazioni Efficienti:** Aggiungere o togliere un elemento nel mezzo della lista è molto veloce se si ha già il puntatore al nodo precedente.\n",
    "\n",
    "**Svantaggi:**\n",
    "* **Accesso Lento:** Non possiamo \"saltare\" direttamente al 10° elemento come in un array. Dobbiamo partire dall'inizio (head) e seguire la catena 9 volte.\n",
    "* **Memoria Extra:** Ogni nodo spreca un po' di memoria per contenere il puntatore al successivo.\n",
    "\n",
    "### Esempio Semplice: Una Lista di Numeri Interi\n",
    "\n",
    "Partiamo con un esempio semplice per capire bene il meccanismo, prima di passare ad applicazioni complesse come le matrici sparse."
   ]
  },
  {
   "cell_type": "markdown",
   "id": "3001deb9-8250-493a-91e1-0cc933d7f3a0",
   "metadata": {},
   "source": [
    "## 2. Alberi Binari di Ricerca (Binary Search Trees): Il Gioco dei 20 Quesiti 🤔\n",
    "\n",
    "Immaginate di dover indovinare un numero da 1 a 100. La strategia migliore è chiedere: \"è maggiore di 50?\". Se la risposta è sì, sapete che il numero è tra 51 e 100. Avete scartato metà delle possibilità con una sola domanda! Continuate così (es. \"è maggiore di 75?\") finché non trovate il numero.\n",
    "\n",
    "Un **albero binario di ricerca (BST)** funziona esattamente così, ma con qualunque dato ordinabile (numeri, parole in ordine alfabetico, etc.).\n",
    "\n",
    "La regola è semplice: per ogni nodo, tutti i valori nel suo **sotto-albero sinistro** sono *minori* del valore del nodo, e tutti i valori nel suo **sotto-albero destro** sono *maggiori*.\n",
    "\n",
    "\n",
    "\n",
    "**Vantaggi:**\n",
    "* **Ricerca Veloce:** Permette di cercare, inserire e cancellare elementi in tempo logaritmico (O(log n)), che è molto più veloce di una lista (O(n)).\n",
    "* **Mantiene i Dati Ordinati:** Visitando l'albero in un certo modo (visita \"in-order\"), possiamo ottenere tutti gli elementi in ordine crescente.\n",
    "\n",
    "**Svantaggi:**\n",
    "* **Alberi Sbilanciati:** Se inseriamo i dati già ordinati (es. 10, 20, 30, 40...), l'albero degenera e diventa una lista concatenata, perdendo tutti i suoi vantaggi.\n",
    "\n",
    "### Esempio: Contare le Occorrenze delle Parole\n",
    "\n",
    "Usiamo l'esempio classico e molto efficace del file originale: contare quante volte appare ogni parola in un testo. Un albero binario è perfetto per questo.\n",
    "\n",
    "Il codice seguente è una versione commentata e leggermente riorganizzata dell'esempio originale, con l'aggiunta di una funzione `my_strdup` per renderlo auto-contenuto e più chiaro."
   ]
  },
  {
   "cell_type": "markdown",
   "id": "cac15577-7a7e-40de-bd94-b57338c78d05",
   "metadata": {},
   "source": [
    "## 3. Tabelle Hash (Hash Tables): Lo Schedario Super-Veloce 🗄️\n",
    "\n",
    "L'idea di base dietro una tabella hash è geniale e sorprendentemente semplice.\n",
    "\n",
    "Immaginiamo di avere uno schedario con 101 cassetti, numerati da 0 a 100. Dobbiamo archiviare una grande quantità di documenti, ognuno con un nome univoco. Come facciamo a trovare un documento specifico *istantaneamente*, senza dover cercare in tutti i cassetti?\n",
    "\n",
    "Ecco il trucco della tabella hash:\n",
    "\n",
    "1.  **La Funzione Hash:** Creiamo una \"regola magica\" (la **funzione hash**) che prende il nome del documento (una stringa) e lo trasforma in un numero da 0 a 100. Ad esempio, la regola potrebbe essere: \"somma i valori ASCII di tutte le lettere del nome e calcola il resto della divisione per 101\".\n",
    "\n",
    "2.  **Archiviazione:** Per archiviare un documento, applichiamo la regola al suo nome. Se il risultato è, ad esempio, 42, mettiamo il documento nel cassetto numero 42.\n",
    "\n",
    "3.  **Ricerca:** Per cercare un documento, applichiamo la stessa regola al nome. Se il risultato è 42, sappiamo che *se il documento esiste, deve essere per forza nel cassetto 42*. Non serve guardare negli altri 100 cassetti!\n",
    "\n",
    "E se due nomi di documenti diversi, per coincidenza, danno lo stesso numero (es. 42)? Questo si chiama **collisione**. Nessun problema! Invece di mettere un singolo documento nel cassetto, ci mettiamo una **lista concatenata** di documenti. Quando cerchiamo, andiamo al cassetto 42 e scorriamo la piccola lista al suo interno per trovare quello che ci serve.\n",
    "\n",
    "La \"tabella hash\" è il nostro schedario (un **array**). Ogni elemento dell'array è una \"testa\" (head) di una lista concatenata. Molti di questi puntatori saranno `NULL` perché il cassetto è vuoto.\n",
    "\n",
    "\n",
    "\n",
    "**Vantaggi:**\n",
    "* **Velocità Incredibile:** La ricerca, l'inserimento e la cancellazione avvengono in tempo medio **costante** (O(1)). Non importa se abbiamo 100 o 10 milioni di elementi, il tempo per trovarne uno è circa lo stesso. È la struttura dati più veloce per la ricerca.\n",
    "\n",
    "**Svantaggi:**\n",
    "* **Nessun Ordine:** I dati sono sparpagliati in modo pseudo-casuale. Non c'è modo di stamparli in ordine.\n",
    "* **Funzione di Hash:** L'efficienza dipende tutta dalla qualità della funzione hash. Una cattiva funzione può creare troppe collisioni e rallentare tutto.\n",
    "\n",
    "### Esempio Semplice: Un Dizionario Chiave-Valore\n",
    "\n",
    "Creiamo una tabella hash per memorizzare le definizioni, come nell'esempio `#define`."
   ]
  },
  {
   "cell_type": "code",
   "execution_count": null,
   "id": "42d4605e-6d44-4aa8-a82a-a9d762615883",
   "metadata": {},
   "outputs": [],
   "source": []
  }
 ],
 "metadata": {
  "kernelspec": {
   "display_name": "Python 3 (ipykernel)",
   "language": "python",
   "name": "python3"
  },
  "language_info": {
   "codemirror_mode": {
    "name": "ipython",
    "version": 3
   },
   "file_extension": ".py",
   "mimetype": "text/x-python",
   "name": "python",
   "nbconvert_exporter": "python",
   "pygments_lexer": "ipython3",
   "version": "3.10.12"
  }
 },
 "nbformat": 4,
 "nbformat_minor": 5
}
